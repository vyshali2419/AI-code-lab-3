{
  "nbformat": 4,
  "nbformat_minor": 0,
  "metadata": {
    "colab": {
      "provenance": [],
      "include_colab_link": true
    },
    "kernelspec": {
      "name": "python3",
      "display_name": "Python 3"
    },
    "language_info": {
      "name": "python"
    }
  },
  "cells": [
    {
      "cell_type": "markdown",
      "metadata": {
        "id": "view-in-github",
        "colab_type": "text"
      },
      "source": [
        "<a href=\"https://colab.research.google.com/github/vyshali2419/AI-code-lab-3/blob/main/Untitled20.ipynb\" target=\"_parent\"><img src=\"https://colab.research.google.com/assets/colab-badge.svg\" alt=\"Open In Colab\"/></a>"
      ]
    },
    {
      "cell_type": "code",
      "execution_count": null,
      "metadata": {
        "id": "aKXS36pQqlbQ"
      },
      "outputs": [],
      "source": [
        "TASK 1: • Write python function to return sum of even and odd numbers in the given list.\n",
        "• Incorporate manual docstring in code with Google Style"
      ]
    },
    {
      "cell_type": "markdown",
      "source": [
        "PROMPT: Give me a  python function to return sum of even and odd numbers in the given list create  docstring in code with Google Style"
      ],
      "metadata": {
        "id": "Nl8ddmvmyX-a"
      }
    },
    {
      "cell_type": "code",
      "metadata": {
        "colab": {
          "base_uri": "https://localhost:8080/"
        },
        "id": "155ee764",
        "outputId": "3bc03ecf-aad6-454e-e558-0b04a4c46294"
      },
      "source": [
        "def sum_even_odd(numbers):\n",
        "  \"\"\"Calculates the sum of even and odd numbers in a list.\n",
        "\n",
        "  Args:\n",
        "    numbers: A list of numbers.\n",
        "\n",
        "  Returns:\n",
        "    A tuple containing the sum of even numbers and the sum of odd numbers.\n",
        "  \"\"\"\n",
        "  even_sum = 0\n",
        "  odd_sum = 0\n",
        "  for number in numbers:\n",
        "    if number % 2 == 0:\n",
        "      even_sum += number\n",
        "    else:\n",
        "      odd_sum += number\n",
        "  return even_sum, odd_sum\n",
        "\n",
        "# Example usage\n",
        "my_list = [1, 2, 3, 4, 5, 6, 7, 8, 9, 10]\n",
        "even_sum, odd_sum = sum_even_odd(my_list)\n",
        "print(f\"Sum of even numbers: {even_sum}\")\n",
        "print(f\"Sum of odd numbers: {odd_sum}\")"
      ],
      "execution_count": null,
      "outputs": [
        {
          "output_type": "stream",
          "name": "stdout",
          "text": [
            "Sum of even numbers: 30\n",
            "Sum of odd numbers: 25\n"
          ]
        }
      ]
    },
    {
      "cell_type": "markdown",
      "source": [
        "PROMPT: Give me a python function to return sum of even and odd numbers in the given list create manually docstring in code with Google Style"
      ],
      "metadata": {
        "id": "rji_PRCr04i5"
      }
    },
    {
      "cell_type": "code",
      "metadata": {
        "colab": {
          "base_uri": "https://localhost:8080/"
        },
        "id": "c097f025",
        "outputId": "5303165b-6a4e-4365-de4c-6875690567ca"
      },
      "source": [
        "def sum_even_odd(numbers):\n",
        "    \"\"\"\n",
        "    Calculate the sum of even and odd numbers in a list.\n",
        "\n",
        "    Args:\n",
        "        numbers (list[int]): A list of integers.\n",
        "\n",
        "    Returns:\n",
        "        tuple: A tuple containing two integers:\n",
        "            - Sum of even numbers (int)\n",
        "            - Sum of odd numbers (int)\n",
        "\n",
        "    Example:\n",
        "        >>> sum_even_odd([1, 2, 3, 4, 5])\n",
        "        (6, 9)\n",
        "    \"\"\"\n",
        "    even_sum = 0\n",
        "    odd_sum = 0\n",
        "\n",
        "    for num in numbers:\n",
        "        if num % 2 == 0:\n",
        "            even_sum += num\n",
        "        else:\n",
        "            odd_sum += num\n",
        "\n",
        "    return even_sum, odd_sum\n",
        "\n",
        "\n",
        "# Example usage\n",
        "nums = [1, 2, 3, 4, 5, 6]\n",
        "print(sum_even_odd(nums))"
      ],
      "execution_count": null,
      "outputs": [
        {
          "output_type": "stream",
          "name": "stdout",
          "text": [
            "(12, 9)\n"
          ]
        }
      ]
    },
    {
      "cell_type": "markdown",
      "metadata": {
        "id": "b297aa51"
      },
      "source": [
        "Observation:\n",
        "\n",
        "Comparing the manually written docstring nd the AI-generated docstring here are some key differences:\n",
        "\n",
        "Manual Docstring :\n",
        "*   Uses a more concise description for the `Args` and `Returns` sections.\n",
        "*   Does not include an `Example` section.\n",
        "\n",
        "AI-Generated Docstring :\n",
        "*   Provides more detail in the `Args` and `Returns` sections, specifying the type of list (`list[int]`) and the components of the returned tuple.\n",
        "*   Includes an `Example` section, which is a helpful addition for demonstrating how to use the function and can be used for doctesting.\n",
        "\n",
        "Both docstrings follow the Google Style Guide, but the AI-generated one is more comprehensive due to the inclusion of type hints and an example."
      ]
    },
    {
      "cell_type": "markdown",
      "source": [
        "TASK 2:• Write python program for sru_student class with attributes like name, roll no.,\n",
        "hostel_status and fee_update method and display_details method.\n",
        "• Write comments manually for each line/code block"
      ],
      "metadata": {
        "id": "q_oJEDHL1tIC"
      }
    },
    {
      "cell_type": "markdown",
      "source": [
        "PROMPT:   Write python program for sru_student class with attributes like name, roll no., hostel_status and fee_update method and display_details method. • Write comments manually for each line/code block."
      ],
      "metadata": {
        "id": "CBWxM4lo2YXR"
      }
    },
    {
      "cell_type": "code",
      "metadata": {
        "colab": {
          "base_uri": "https://localhost:8080/"
        },
        "id": "be05398a",
        "outputId": "47de935c-e00e-4bf2-b5a8-1d7382def788"
      },
      "source": [
        "# Define the sru_student class\n",
        "class sru_student:\n",
        "    # Initialize the class with attributes\n",
        "    def __init__(self, name, roll_no, hostel_status):\n",
        "        # Assign the provided name to the instance's name attribute\n",
        "        self.name = name\n",
        "        # Assign the provided roll_no to the instance's roll_no attribute\n",
        "        self.roll_no = roll_no\n",
        "        # Assign the provided hostel_status to the instance's hostel_status attribute\n",
        "        self.hostel_status = hostel_status\n",
        "        # Initialize the fee_status attribute to 0\n",
        "        self.fee_status = 0\n",
        "\n",
        "    # Define a method to update the fee status\n",
        "    def fee_update(self, amount):\n",
        "        # Add the provided amount to the current fee_status\n",
        "        self.fee_status += amount\n",
        "        # Print a confirmation message with the updated fee status\n",
        "        print(f\"Fee updated for {self.name}. Current fee status: {self.fee_status}\")\n",
        "\n",
        "    # Define a method to display the student's details\n",
        "    def display_details(self):\n",
        "        # Print the student's name\n",
        "        print(f\"Name: {self.name}\")\n",
        "        # Print the student's roll number\n",
        "        print(f\"Roll No.: {self.roll_no}\")\n",
        "        # Print the student's hostel status\n",
        "        print(f\"Hostel Status: {self.hostel_status}\")\n",
        "        # Print the student's fee status\n",
        "        print(f\"Fee Status: {self.fee_status}\")\n",
        "\n",
        "# Example usage:\n",
        "# Create an instance of the sru_student class\n",
        "student1 = sru_student(\"Alice\", \"SRU123\", \"In-hostel\")\n",
        "\n",
        "# Display the initial details of the student\n",
        "print(\"Initial Details:\")\n",
        "student1.display_details()\n",
        "\n",
        "# Update the fee for the student\n",
        "student1.fee_update(5000)\n",
        "\n",
        "# Display the details after the fee update\n",
        "print(\"\\nDetails After Fee Update:\")\n",
        "student1.display_details()"
      ],
      "execution_count": null,
      "outputs": [
        {
          "output_type": "stream",
          "name": "stdout",
          "text": [
            "Initial Details:\n",
            "Name: Alice\n",
            "Roll No.: SRU123\n",
            "Hostel Status: In-hostel\n",
            "Fee Status: 0\n",
            "Fee updated for Alice. Current fee status: 5000\n",
            "\n",
            "Details After Fee Update:\n",
            "Name: Alice\n",
            "Roll No.: SRU123\n",
            "Hostel Status: In-hostel\n",
            "Fee Status: 5000\n"
          ]
        }
      ]
    },
    {
      "cell_type": "markdown",
      "source": [
        "PROMPT :Write python program for sru_student class with attributes like name, roll no., hostel_status and fee_update method and display_details method. • Write comments less code for each line/code block."
      ],
      "metadata": {
        "id": "6whG60Om3ZHH"
      }
    },
    {
      "cell_type": "code",
      "metadata": {
        "colab": {
          "base_uri": "https://localhost:8080/"
        },
        "id": "fa54798a",
        "outputId": "d8add8c8-5ceb-49ab-febc-895f760daba8"
      },
      "source": [
        "\n",
        "class sru_student:\n",
        "\n",
        "    def __init__(self, name, roll_no, hostel_status):\n",
        "        self.name = name\n",
        "        self.roll_no = roll_no\n",
        "        self.hostel_status = hostel_status\n",
        "        self.fee_status = 0\n",
        "\n",
        "\n",
        "    def fee_update(self, amount):\n",
        "        self.fee_status += amount\n",
        "        print(f\"Fee updated for {self.name}. Current fee status: {self.fee_status}\")\n",
        "\n",
        "\n",
        "    def display_details(self):\n",
        "        print(f\"Name: {self.name}\")\n",
        "        print(f\"Roll No.: {self.roll_no}\")\n",
        "        print(f\"Hostel Status: {self.hostel_status}\")\n",
        "        print(f\"Fee Status: {self.fee_status}\")\n",
        "\n",
        "\n",
        "student1 = sru_student(\"Alice\", \"SRU123\", \"In-hostel\")\n",
        "print(\"Initial Details:\")\n",
        "student1.display_details()\n",
        "student1.fee_update(5000)\n",
        "print(\"\\nDetails After Fee Update:\")\n",
        "student1.display_details()"
      ],
      "execution_count": null,
      "outputs": [
        {
          "output_type": "stream",
          "name": "stdout",
          "text": [
            "Initial Details:\n",
            "Name: Alice\n",
            "Roll No.: SRU123\n",
            "Hostel Status: In-hostel\n",
            "Fee Status: 0\n",
            "Fee updated for Alice. Current fee status: 5000\n",
            "\n",
            "Details After Fee Update:\n",
            "Name: Alice\n",
            "Roll No.: SRU123\n",
            "Hostel Status: In-hostel\n",
            "Fee Status: 5000\n"
          ]
        }
      ]
    },
    {
      "cell_type": "markdown",
      "source": [
        "Observation:"
      ],
      "metadata": {
        "id": "C_Sn8bu-3loq"
      }
    },
    {
      "cell_type": "markdown",
      "metadata": {
        "id": "a3600a17"
      },
      "source": [
        "Observation :\n",
        "\n",
        "Comparing the class code with  comments and the version with no comments here's an observation:\n",
        "\n",
        "Code with  Comments:\n",
        "*   Provides a comment for almost every line or small block of code.\n",
        "*   This level of detail can be very helpful for beginners or when the code is complex, as it explains each step explicitly.\n",
        "*   However, it can also make the code visually cluttered and harder to quickly scan for the main logic.\n",
        "\n",
        "Code with no Comments:\n",
        "*   Includes comments primarily for the class definition, method definitions, and key sections like the example usage.\n",
        "*   This approach focuses on explaining the purpose of larger code blocks or functions rather than individual lines.\n",
        "*   It generally makes the code cleaner and easier to read for experienced developers who can understand the syntax and basic operations without line-by-line explanations.\n",
        "\n",
        "The choice between comments or no comments often depends on the target audience for the code and the complexity of the logic. For educational purposes or highly complex algorithms, more comments can be beneficial. For standard code or experienced developers, fewer, more concise comments are often preferred."
      ]
    },
    {
      "cell_type": "markdown",
      "source": [
        "TASK 3:• Write a Python script with 3–4 functions (e.g., calculator: add, subtract, multiply,\n",
        "divide).\n",
        "• Incorporate manual docstring in code with NumPy Style."
      ],
      "metadata": {
        "id": "MDsv7uzp4InG"
      }
    },
    {
      "cell_type": "markdown",
      "source": [
        "PROMPT:Give me a  Python script with 3–4 functions (e.g., calculator: add, subtract, multiply, divide).create docstring in code with NumPy Style."
      ],
      "metadata": {
        "id": "tIVMH9u04YNr"
      }
    },
    {
      "cell_type": "code",
      "metadata": {
        "colab": {
          "base_uri": "https://localhost:8080/"
        },
        "id": "ff8f3654",
        "outputId": "ff3c7ac8-e6e5-4f63-da4b-c8f242eb8095"
      },
      "source": [
        "def add(a, b):\n",
        "    \"\"\"\n",
        "    Adds two numbers.\n",
        "\n",
        "    Parameters\n",
        "    ----------\n",
        "    a : int or float\n",
        "        The first number.\n",
        "    b : int or float\n",
        "        The second number.\n",
        "\n",
        "    Returns\n",
        "    -------\n",
        "    int or float\n",
        "        The sum of the two numbers.\n",
        "\n",
        "    Examples\n",
        "    --------\n",
        "    >>> add(2, 3)\n",
        "    5\n",
        "    >>> add(1.5, 2.5)\n",
        "    4.0\n",
        "    \"\"\"\n",
        "    return a + b\n",
        "\n",
        "def subtract(a, b):\n",
        "    \"\"\"\n",
        "    Subtracts the second number from the first.\n",
        "\n",
        "    Parameters\n",
        "    ----------\n",
        "    a : int or float\n",
        "        The first number.\n",
        "    b : int or float\n",
        "        The second number.\n",
        "\n",
        "    Returns\n",
        "    -------\n",
        "    int or float\n",
        "        The difference between the two numbers.\n",
        "\n",
        "    Examples\n",
        "    --------\n",
        "    >>> subtract(5, 2)\n",
        "    3\n",
        "    >>> subtract(10.0, 3.5)\n",
        "    6.5\n",
        "    \"\"\"\n",
        "    return a - b\n",
        "\n",
        "def multiply(a, b):\n",
        "    \"\"\"\n",
        "    Multiplies two numbers.\n",
        "\n",
        "    Parameters\n",
        "    ----------\n",
        "    a : int or float\n",
        "        The first number.\n",
        "    b : int or float\n",
        "        The second number.\n",
        "\n",
        "    Returns\n",
        "    -------\n",
        "    int or float\n",
        "        The product of the two numbers.\n",
        "\n",
        "    Examples\n",
        "    --------\n",
        "    >>> multiply(4, 5)\n",
        "    20\n",
        "    >>> multiply(2.5, 2)\n",
        "    5.0\n",
        "    \"\"\"\n",
        "    return a * b\n",
        "\n",
        "def divide(a, b):\n",
        "    \"\"\"\n",
        "    Divides the first number by the second.\n",
        "\n",
        "    Parameters\n",
        "    ----------\n",
        "    a : int or float\n",
        "        The numerator.\n",
        "    b : int or float\n",
        "        The denominator.\n",
        "\n",
        "    Returns\n",
        "    -------\n",
        "    int or float\n",
        "        The result of the division.\n",
        "\n",
        "    Raises\n",
        "    ------\n",
        "    ZeroDivisionError\n",
        "        If the denominator is zero.\n",
        "\n",
        "    Examples\n",
        "    --------\n",
        "    >>> divide(10, 2)\n",
        "    5.0\n",
        "    >>> divide(7.5, 2.5)\n",
        "    3.0\n",
        "    \"\"\"\n",
        "    if b == 0:\n",
        "        raise ZeroDivisionError(\"Division by zero is not allowed.\")\n",
        "    return a / b\n",
        "\n",
        "# Example usage:\n",
        "print(f\"2 + 3 = {add(2, 3)}\")\n",
        "print(f\"5 - 2 = {subtract(5, 2)}\")\n",
        "print(f\"4 * 5 = {multiply(4, 5)}\")\n",
        "print(f\"10 / 2 = {divide(10, 2)}\")\n",
        "# print(f\"10 / 0 = {divide(10, 0)}\") # Uncomment to test ZeroDivisionError"
      ],
      "execution_count": null,
      "outputs": [
        {
          "output_type": "stream",
          "name": "stdout",
          "text": [
            "2 + 3 = 5\n",
            "5 - 2 = 3\n",
            "4 * 5 = 20\n",
            "10 / 2 = 5.0\n"
          ]
        }
      ]
    },
    {
      "cell_type": "markdown",
      "source": [
        "PROMPT: Give me a  Python script with 3–4 functions (e.g., calculator: add, subtract, multiply, divide). Incorporate manual docstring in code with NumPy Style."
      ],
      "metadata": {
        "id": "ljwf_q9h5dJu"
      }
    },
    {
      "cell_type": "code",
      "source": [
        "\"\"\"\n",
        "Simple Calculator Program\n",
        "-------------------------\n",
        "This program demonstrates basic calculator operations\n",
        "using simple Python functions with NumPy-style docstrings.\n",
        "\"\"\"\n",
        "\n",
        "def add(a, b):\n",
        "    \"\"\"\n",
        "    Add two numbers.\n",
        "\n",
        "    Parameters\n",
        "    ----------\n",
        "    a : int or float\n",
        "        First number.\n",
        "    b : int or float\n",
        "        Second number.\n",
        "\n",
        "    Returns\n",
        "    -------\n",
        "    int or float\n",
        "        The sum of a and b.\n",
        "    \"\"\"\n",
        "    return a + b\n",
        "\n",
        "\n",
        "def subtract(a, b):\n",
        "    \"\"\"\n",
        "    Subtract two numbers.\n",
        "\n",
        "    Parameters\n",
        "    ----------\n",
        "    a : int or float\n",
        "        First number.\n",
        "    b : int or float\n",
        "        Second number.\n",
        "\n",
        "    Returns\n",
        "    -------\n",
        "    int or float\n",
        "        The difference of a and b.\n",
        "    \"\"\"\n",
        "    return a - b\n",
        "\n",
        "\n",
        "def multiply(a, b):\n",
        "    \"\"\"\n",
        "    Multiply two numbers.\n",
        "\n",
        "    Parameters\n",
        "    ----------\n",
        "    a : int or float\n",
        "        First number.\n",
        "    b : int or float\n",
        "        Second number.\n",
        "\n",
        "    Returns\n",
        "    -------\n",
        "    int or float\n",
        "        The product of a and b.\n",
        "    \"\"\"\n",
        "    return a * b\n",
        "\n",
        "\n",
        "def divide(a, b):\n",
        "    \"\"\"\n",
        "    Divide two numbers.\n",
        "\n",
        "    Parameters\n",
        "    ----------\n",
        "    a : int or float\n",
        "        Numerator.\n",
        "    b : int or float\n",
        "        Denominator.\n",
        "\n",
        "    Returns\n",
        "    -------\n",
        "    float\n",
        "        The quotient of a and b.\n",
        "\n",
        "    Raises\n",
        "    ------\n",
        "    ValueError\n",
        "        If b is zero.\n",
        "    \"\"\"\n",
        "    if b == 0:\n",
        "        raise ValueError(\"Cannot divide by zero.\")\n",
        "    return a / b\n",
        "\n",
        "\n",
        "# Example usage\n",
        "print(\"Addition: \", add(8, 2))\n",
        "print(\"Subtraction: \", subtract(8, 2))\n",
        "print(\"Multiplication: \", multiply(8, 2))\n",
        "print(\"Division: \", divide(8, 2))\n"
      ],
      "metadata": {
        "id": "u9JAgXcR4nkZ"
      },
      "execution_count": null,
      "outputs": []
    },
    {
      "cell_type": "markdown",
      "metadata": {
        "id": "97494842"
      },
      "source": [
        "Observation :\n",
        "\n",
        "Comparing the manually written calculator functions with NumPy style docstrings and the AI-generated version  here are some observations:\n",
        "\n",
        "Manual Code with NumPy Style Docstrings :\n",
        "*   Explicitly follows the NumPy docstring style, including `Parameters`, `Returns`, `Raises`, and `Examples` sections with specific formatting.\n",
        "*   Provides detailed type hints and descriptions for parameters and return values.\n",
        "*   Includes runnable `Examples` which can be used for doctesting.\n",
        "\n",
        "AI-Generated Code :\n",
        "*   Uses a docstring style that is closer to Google style or a general concise format, rather than strictly adhering to NumPy style.\n",
        "*   Provides basic descriptions for arguments and return values but may lack the structured sections and specific formatting of NumPy style.\n",
        "*   Does not include runnable `Examples` within the docstring.\n",
        "\n",
        "Both versions provide the core functionality of the calculator, but the manual version is more closely follows the requested NumPy docstring style and includes helpful examples within the docstrings themselves. The AI-generated version is more concise in its docstring format."
      ]
    }
  ]
}