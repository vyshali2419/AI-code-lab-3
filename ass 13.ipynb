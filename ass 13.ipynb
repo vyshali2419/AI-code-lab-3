{
  "nbformat": 4,
  "nbformat_minor": 0,
  "metadata": {
    "colab": {
      "provenance": [],
      "authorship_tag": "ABX9TyMTsHHY1epOIUsRE7k/c6Q+",
      "include_colab_link": true
    },
    "kernelspec": {
      "name": "python3",
      "display_name": "Python 3"
    },
    "language_info": {
      "name": "python"
    }
  },
  "cells": [
    {
      "cell_type": "markdown",
      "metadata": {
        "id": "view-in-github",
        "colab_type": "text"
      },
      "source": [
        "<a href=\"https://colab.research.google.com/github/vyshali2419/AI-code-lab-3/blob/main/ass%2013.ipynb\" target=\"_parent\"><img src=\"https://colab.research.google.com/assets/colab-badge.svg\" alt=\"Open In Colab\"/></a>"
      ]
    },
    {
      "cell_type": "code",
      "execution_count": null,
      "metadata": {
        "id": "FfzShn-O2Agz"
      },
      "outputs": [],
      "source": []
    },
    {
      "cell_type": "markdown",
      "source": [
        "TASK 1: asking a refactor"
      ],
      "metadata": {
        "id": "2o4vNgto2UO2"
      }
    },
    {
      "cell_type": "code",
      "metadata": {
        "colab": {
          "base_uri": "https://localhost:8080/"
        },
        "id": "ee6736e7",
        "outputId": "f3823c4a-e650-4266-f5ad-6d0ac480403a"
      },
      "source": [
        "import math\n",
        "\n",
        "def calculate_square_area(side):\n",
        "    \"\"\"Calculates the area of a square.\"\"\"\n",
        "    return side * side\n",
        "\n",
        "def calculate_circle_area(radius):\n",
        "    \"\"\"Calculates the area of a circle.\"\"\"\n",
        "    return math.pi * radius * radius\n",
        "\n",
        "def calculate_rectangle_area(length, width):\n",
        "    \"\"\"Calculates the area of a rectangle.\"\"\"\n",
        "    return length * width\n",
        "\n",
        "# Dictionary to dispatch based on shape\n",
        "area_calculators = {\n",
        "    \"square\": calculate_square_area,\n",
        "    \"circle\": calculate_circle_area,\n",
        "    \"rectangle\": calculate_rectangle_area,\n",
        "}\n",
        "\n",
        "def calculate_area_modular(shape, *args):\n",
        "    \"\"\"Calculates the area of a given shape using a modular design.\"\"\"\n",
        "    if shape in area_calculators:\n",
        "        try:\n",
        "            return area_calculators[shape](*args)\n",
        "        except TypeError:\n",
        "            raise ValueError(f\"Incorrect number of arguments for shape '{shape}'.\")\n",
        "    else:\n",
        "        raise ValueError(\"Unsupported shape. Choose from 'rectangle', 'square', or 'circle'.\")\n",
        "\n",
        "# Example usage and output\n",
        "print(f\"Area of a square with side 5: {calculate_area_modular('square', 5)}\")\n",
        "print(f\"Area of a circle with radius 3: {calculate_area_modular('circle', 3)}\")\n",
        "print(f\"Area of a rectangle with length 4 and width 6: {calculate_area_modular('rectangle', 4, 6)}\")\n",
        "\n",
        "# Example of handling incorrect arguments\n",
        "try:\n",
        "    calculate_area_modular('rectangle', 5)\n",
        "except ValueError as e:\n",
        "    print(f\"Error: {e}\")\n",
        "\n",
        "# Example of handling unsupported shape\n",
        "try:\n",
        "    calculate_area_modular('triangle', 5, 6)\n",
        "except ValueError as e:\n",
        "    print(f\"Error: {e}\")"
      ],
      "execution_count": 1,
      "outputs": [
        {
          "output_type": "stream",
          "name": "stdout",
          "text": [
            "Area of a square with side 5: 25\n",
            "Area of a circle with radius 3: 28.274333882308138\n",
            "Area of a rectangle with length 4 and width 6: 24\n",
            "Error: Incorrect number of arguments for shape 'rectangle'.\n",
            "Error: Unsupported shape. Choose from 'rectangle', 'square', or 'circle'.\n"
          ]
        }
      ]
    },
    {
      "cell_type": "markdown",
      "source": [
        "TASK 2: : Legacy function without proper error handling"
      ],
      "metadata": {
        "id": "hZrAhCRk227J"
      }
    },
    {
      "cell_type": "code",
      "metadata": {
        "colab": {
          "base_uri": "https://localhost:8080/"
        },
        "id": "c7651ad6",
        "outputId": "6f7ddc76-1a91-4d03-d9b9-ef2f365afc95"
      },
      "source": [
        "def read_file_refactored(filename):\n",
        "    \"\"\"Reads a file with proper error handling using with open() and try-except.\"\"\"\n",
        "    try:\n",
        "        with open(filename, 'r') as f:\n",
        "            data = f.read()\n",
        "        return data\n",
        "    except FileNotFoundError:\n",
        "        print(f\"Error: The file '{filename}' was not found.\")\n",
        "        return None\n",
        "    except Exception as e:\n",
        "        print(f\"An unexpected error occurred while reading the file '{filename}': {e}\")\n",
        "        return None\n",
        "\n",
        "# Example usage\n",
        "# Create a dummy file for testing\n",
        "with open(\"my_test_file.txt\", \"w\") as f:\n",
        "    f.write(\"This is some test content.\")\n",
        "\n",
        "# Get filename dynamically from user input\n",
        "filename_to_read = input(\"Enter the name of the file you want to read: \")\n",
        "\n",
        "# Read the file using the refactored function\n",
        "file_content = read_file_refactored(filename_to_read)\n",
        "\n",
        "if file_content:\n",
        "    print(\"\\nSuccessfully read file content:\")\n",
        "    print(file_content)\n",
        "else:\n",
        "    print(f\"\\nFailed to read file: {filename_to_read}\")\n",
        "\n",
        "# # Attempt to read a non-existent file (original example, commented out)\n",
        "# non_existent_content = read_file_refactored(\"non_existent_file.txt\")\n",
        "# if non_existent_content is None:\n",
        "#     print(\"\\nCould not read non-existent file as expected.\")"
      ],
      "execution_count": 4,
      "outputs": [
        {
          "output_type": "stream",
          "name": "stdout",
          "text": [
            "Enter the name of the file you want to read: my_test_file.txt\n",
            "\n",
            "Successfully read file content:\n",
            "This is some test content.\n"
          ]
        }
      ]
    },
    {
      "cell_type": "markdown",
      "source": [
        "TASK 3:Complex Refactoring"
      ],
      "metadata": {
        "id": "3E4l0q883_-A"
      }
    },
    {
      "cell_type": "code",
      "metadata": {
        "colab": {
          "base_uri": "https://localhost:8080/"
        },
        "id": "897917ba",
        "outputId": "b5fce73c-eb2a-4987-ace1-02ece2dce5f5"
      },
      "source": [
        "class StudentRefactoredImproved:\n",
        "    \"\"\"Represents a student with name, age, and marks in three subjects.\"\"\"\n",
        "\n",
        "    def __init__(self, name, age, mark1, mark2, mark3):\n",
        "        \"\"\"\n",
        "        Initializes a StudentRefactoredImproved object.\n",
        "\n",
        "        Args:\n",
        "            name (str): The name of the student.\n",
        "            age (int): The age of the student.\n",
        "            mark1 (int): The mark in the first subject.\n",
        "            mark2 (int): The mark in the second subject.\n",
        "            mark3 (int): The mark in the third subject.\n",
        "        \"\"\"\n",
        "        self.name = name\n",
        "        self.age = age\n",
        "        self.marks = [mark1, mark2, mark3]\n",
        "\n",
        "    def details(self):\n",
        "        \"\"\"Prints the details of the student in a readable format.\"\"\"\n",
        "        print(f\"Student Name: {self.name}\")\n",
        "        print(f\"Student Age: {self.age}\")\n",
        "        print(f\"Marks: {self.marks}\")\n",
        "\n",
        "    def total_marks(self):\n",
        "        \"\"\"Calculates and returns the total marks of the student.\"\"\"\n",
        "        return sum(self.marks)\n",
        "\n",
        "# Example usage and output\n",
        "student2 = StudentRefactoredImproved(\"Bob\", 17, 78, 88, 95)\n",
        "student2.details()\n",
        "print(f\"Total Marks: {student2.total_marks()}\")"
      ],
      "execution_count": 5,
      "outputs": [
        {
          "output_type": "stream",
          "name": "stdout",
          "text": [
            "Student Name: Bob\n",
            "Student Age: 17\n",
            "Marks: [78, 88, 95]\n",
            "Total Marks: 261\n"
          ]
        }
      ]
    }
  ]
}