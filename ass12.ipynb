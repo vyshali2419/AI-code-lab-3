{
  "nbformat": 4,
  "nbformat_minor": 0,
  "metadata": {
    "colab": {
      "provenance": [],
      "include_colab_link": true
    },
    "kernelspec": {
      "name": "python3",
      "display_name": "Python 3"
    },
    "language_info": {
      "name": "python"
    }
  },
  "cells": [
    {
      "cell_type": "markdown",
      "metadata": {
        "id": "view-in-github",
        "colab_type": "text"
      },
      "source": [
        "<a href=\"https://colab.research.google.com/github/vyshali2419/AI-code-lab-3/blob/main/ass12.ipynb\" target=\"_parent\"><img src=\"https://colab.research.google.com/assets/colab-badge.svg\" alt=\"Open In Colab\"/></a>"
      ]
    },
    {
      "cell_type": "code",
      "execution_count": null,
      "metadata": {
        "id": "kmhw_NB7ifjV"
      },
      "outputs": [],
      "source": [
        "task:Write python code for linear_search() function to search a value\n",
        "in a list and extract it’s index"
      ]
    },
    {
      "cell_type": "markdown",
      "source": [
        "prompt:give me a python code for funtion linear_search() function to search a value in a list and extract it's index"
      ],
      "metadata": {
        "id": "fG-FlwDnoWVP"
      }
    },
    {
      "cell_type": "code",
      "source": [
        "def linear_search(input_list, target_value):\n",
        "  \"\"\"\n",
        "  Searches for a target value in a list using linear search.\n",
        "\n",
        "  Args:\n",
        "    input_list: The list to search within.\n",
        "    target_value: The value to search for.\n",
        "\n",
        "  Returns:\n",
        "    The index of the target value if found, otherwise -1.\n",
        "  \"\"\"\n",
        "  for index, value in enumerate(input_list):\n",
        "    if value == target_value:\n",
        "      return index\n",
        "  return -1\n",
        "\n",
        "# Example usage:\n",
        "my_list = [10, 25, 5, 18, 30, 12]\n",
        "target = 18\n",
        "index = linear_search(my_list, target)\n",
        "\n",
        "if index != -1:\n",
        "  print(f\"Value {target} found at index {index}\")\n",
        "else:\n",
        "  print(f\"Value {target} not found in the list\")"
      ],
      "metadata": {
        "colab": {
          "base_uri": "https://localhost:8080/"
        },
        "id": "9UyIeyDvo2kx",
        "outputId": "38d2dfb6-b334-4923-9098-eb9e5943d241"
      },
      "execution_count": null,
      "outputs": [
        {
          "output_type": "stream",
          "name": "stdout",
          "text": [
            "Value 18 found at index 3\n"
          ]
        }
      ]
    },
    {
      "cell_type": "markdown",
      "source": [
        "explanation:def linear_search(input_list, target_value):: This line defines a function named linear_search that takes two arguments:\n",
        "input_list: The list where you want to search.\n",
        "target_value: The value you are looking for within the list.\n",
        "\"\"\" Docstring \"\"\": This is a docstring, which explains what the function does, its arguments, and what it returns. It's good practice to include these for documentation.\n",
        "for index, value in enumerate(input_list):: This is a for loop that iterates through the input_list. The enumerate() function is used here to get both the index and the value of each element in the list during iteration.\n",
        "index: Represents the position (index) of the current element.\n",
        "value: Represents the value of the current element.\n",
        "if value == target_value:: Inside the loop, this line checks if the value of the current element is equal to the target_value that you are searching for.\n",
        "return index: If the value matches the target_value, the function immediately returns the index where the value was found.\n",
        "return -1: If the loop finishes without finding the target_value (i.e., the if condition was never met), the function returns -1. This is a common convention to indicate that the element was not found in the list.\n",
        "# Example usage:: This section shows how to use the linear_search function.\n",
        "my_list = [10, 25, 5, 18, 30, 12]: This line creates a sample list named my_list.\n",
        "target = 18: This line sets the target value to 18, which is the value we want to search for.\n",
        "index = linear_search(my_list, target): This line calls the linear_search function with my_list and target as arguments and stores the returned index (or -1) in the index variable.\n",
        "if index != -1:: This checks if the index is not equal to -1 (meaning the value was found).\n",
        "print(f\"Value {target} found at index {index}\"): If the value was found, this line prints a message indicating the value and its index.\n",
        "else:: This is executed if the if condition is false (meaning index is -1).\n",
        "print(f\"Value {target} not found in the list\"): If the value was not found, this line prints a message indicating that the value was not in the list.\n"
      ],
      "metadata": {
        "id": "lIle-iF3pIcb"
      }
    },
    {
      "cell_type": "code",
      "source": [
        "task2:Task: Ask AI to implement Bubble Sort and check sorted output"
      ],
      "metadata": {
        "id": "AS2PoeLhpvQp"
      },
      "execution_count": null,
      "outputs": []
    },
    {
      "cell_type": "markdown",
      "source": [
        "prompt:generate a python code to implement bubble sort and check sorted output"
      ],
      "metadata": {
        "id": "TlMQllVHqAla"
      }
    },
    {
      "cell_type": "code",
      "source": [
        "def bubble_sort(input_list):\n",
        "  \"\"\"\n",
        "  Sorts a list using the Bubble Sort algorithm.\n",
        "\n",
        "  Args:\n",
        "    input_list: The list to be sorted.\n",
        "\n",
        "  Returns:\n",
        "    The sorted list.\n",
        "  \"\"\"\n",
        "  n = len(input_list)\n",
        "  # Traverse through all list elements\n",
        "  for i in range(n):\n",
        "    # Last i elements are already in place\n",
        "    for j in range(0, n - i - 1):\n",
        "      # Traverse the list from 0 to n-i-1\n",
        "      # Swap if the element found is greater than the next element\n",
        "      if input_list[j] > input_list[j + 1]:\n",
        "        input_list[j], input_list[j + 1] = input_list[j + 1], input_list[j]\n",
        "  return input_list\n",
        "\n",
        "# Example usage:\n",
        "my_list = [64, 34, 25, 12, 22, 11, 90]\n",
        "sorted_list = bubble_sort(my_list.copy()) # Use a copy to keep the original list\n",
        "\n",
        "print(\"Original list:\", my_list)\n",
        "print(\"Sorted list:\", sorted_list)"
      ],
      "metadata": {
        "colab": {
          "base_uri": "https://localhost:8080/"
        },
        "id": "MJYLK4UYqJrs",
        "outputId": "c4f5b6fb-c2d3-4aed-87d9-a5c5d3f725eb"
      },
      "execution_count": null,
      "outputs": [
        {
          "output_type": "stream",
          "name": "stdout",
          "text": [
            "Original list: [64, 34, 25, 12, 22, 11, 90]\n",
            "Sorted list: [11, 12, 22, 25, 34, 64, 90]\n"
          ]
        }
      ]
    },
    {
      "cell_type": "markdown",
      "source": [
        "explanation:def bubble_sort(input_list):: This line defines a function named bubble_sort that takes one argument:\n",
        "input_list: The list you want to sort.\n",
        "\"\"\" Docstring \"\"\": This is a docstring explaining what the function does and what it returns.\n",
        "n = len(input_list): This line gets the number of elements in the input list and stores it in the variable n.\n",
        "for i in range(n):: This is the outer loop. It iterates n times. In each iteration i, the largest unsorted element will \"bubble up\" to its correct position at the end of the unsorted portion of the list.\n",
        "for j in range(0, n - i - 1):: This is the inner loop. It iterates through the unsorted portion of the list. The range (0, n - i - 1) shrinks with each outer loop iteration because the last i elements are already sorted.\n",
        "if input_list[j] > input_list[j + 1]:: This line compares the current element (input_list[j]) with the next element (input_list[j + 1]).\n",
        "input_list[j], input_list[j + 1] = input_list[j + 1], input_list[j]: If the current element is greater than the next element, this line swaps their positions. This is the \"bubbling\" action. Python's tuple packing and unpacking allows for a concise swap.\n",
        "return input_list: After the outer loop completes, the list is sorted, and the function returns the sorted list.\n",
        "# Example usage:: This section shows how to use the bubble_sort function.\n",
        "my_list = [64, 34, 25, 12, 22, 11, 90]: This line creates a sample list named my_list.\n",
        "sorted_list = bubble_sort(my_list.copy()): This line calls the bubble_sort function with a copy of my_list and stores the sorted result in sorted_list. Using .copy() is important so that the original my_list remains unchanged, allowing you to see both the original and sorted versions.\n",
        "print(\"Original list:\", my_list): This line prints the original list.\n",
        "print(\"Sorted list:\", sorted_list): This line prints the sorted list.\n"
      ],
      "metadata": {
        "id": "ONLufkiJqm2d"
      }
    },
    {
      "cell_type": "code",
      "source": [
        "Write python code to solve below case study using linear\n",
        "optimization"
      ],
      "metadata": {
        "id": "GY7MH7XctDQq"
      },
      "execution_count": null,
      "outputs": []
    },
    {
      "cell_type": "markdown",
      "source": [
        "prompt:Write python code to solve below case study using linear optimization consider a chocolate manufacturing company that produces only two types of  chocolate that is A and B both the chocolate requires milk and choco only two manufactures each unit of A and B the following quantites are required each unit of A requires one unit of milk and 3 units of chocos each unit of B requries one unit of milk and  2 units of chocos the company kitchen as total of 5 units of milk and 12 units of choco on each scale the company makes a profit of rupees 6 per unit A sold and rupees 5 per unit B sold now, the company wishes to maximise its profit how many units of A nd B should it produce respectively"
      ],
      "metadata": {
        "id": "wUDOhVYVtrCc"
      }
    },
    {
      "cell_type": "code",
      "source": [
        "# Install PuLP if you haven't already\n",
        "!pip install pulp\n",
        "\n",
        "# Import the library\n",
        "from pulp import *\n",
        "\n",
        "# Create a LP problem\n",
        "prob = LpProblem(\"Chocolate Manufacturing\", LpMaximize)\n",
        "\n",
        "# Define decision variables\n",
        "# x is the number of units of chocolate A\n",
        "# y is the number of units of chocolate B\n",
        "x = LpVariable(\"A\", 0, None, LpInteger) # Non-negative integer variable\n",
        "y = LpVariable(\"B\", 0, None, LpInteger) # Non-negative integer variable\n",
        "\n",
        "# Define the objective function (maximize profit)\n",
        "# Profit = 6*x + 5*y\n",
        "prob += 6 * x + 5 * y, \"Total Profit\"\n",
        "\n",
        "# Define the constraints\n",
        "# Milk constraint: 1*x + 1*y <= 5\n",
        "prob += x + y <= 5, \"Milk Constraint\"\n",
        "\n",
        "# Choco constraint: 3*x + 2*y <= 12\n",
        "prob += 3 * x + 2 * y <= 12, \"Choco Constraint\"\n",
        "\n",
        "# Solve the problem\n",
        "prob.solve()\n",
        "\n",
        "# Print the results\n",
        "print(\"Status:\", LpStatus[prob.status])\n",
        "print(\"Optimal number of units of A:\", x.varValue)\n",
        "print(\"Optimal number of units of B:\", y.varValue)\n",
        "print(\"Maximum Profit:\", value(prob.objective))"
      ],
      "metadata": {
        "id": "4KdvFTVit8Bp"
      },
      "execution_count": null,
      "outputs": []
    },
    {
      "cell_type": "markdown",
      "source": [
        "explanation:"
      ],
      "metadata": {
        "id": "uR50nvQ1uADf"
      }
    },
    {
      "cell_type": "markdown",
      "metadata": {
        "id": "408e4ba7"
      },
      "source": [
        "Here's an explanation of the Python code that solves the chocolate manufacturing case study using linear optimization:\n",
        "\n",
        "1.  **`!pip install pulp`**: This line installs the `PuLP` library, which is a library for solving linear programming problems in Python. The `!` indicates that this is a shell command.\n",
        "\n",
        "2.  **`from pulp import *`**: This line imports all necessary functions and classes from the `PuLP` library.\n",
        "\n",
        "3.  **`prob = LpProblem(\"Chocolate Manufacturing\", LpMaximize)`**: This line creates a linear programming problem instance.\n",
        "    *   `\"Chocolate Manufacturing\"`: This is the name of the problem.\n",
        "    *   `LpMaximize`: This indicates that we want to maximize the objective function (in this case, profit). If we wanted to minimize, we would use `LpMinimize`.\n",
        "\n",
        "4.  **`x = LpVariable(\"A\", 0, None, LpInteger)`**: This line defines a decision variable `x` representing the number of units of chocolate A to produce.\n",
        "    *   `\"A\"`: This is the name of the variable.\n",
        "    *   `0`: This is the lower bound for the variable (cannot produce negative units).\n",
        "    *   `None`: This indicates no upper bound.\n",
        "    *   `LpInteger`: This specifies that the variable must be an integer (cannot produce fractions of units).\n",
        "\n",
        "5.  **`y = LpVariable(\"B\", 0, None, LpInteger)`**: This line defines a decision variable `y` representing the number of units of chocolate B to produce. It has the same parameters as `x`.\n",
        "\n",
        "6.  **`prob += 6 * x + 5 * y, \"Total Profit\"`**: This line defines the objective function.\n",
        "    *   `6 * x + 5 * y`: This is the mathematical expression for the total profit, where 6 is the profit per unit of A and 5 is the profit per unit of B.\n",
        "    *   `\"Total Profit\"`: This is a name for the objective function.\n",
        "    *   `prob +=`: This syntax adds the objective function to the problem instance.\n",
        "\n",
        "7.  **`prob += x + y <= 5, \"Milk Constraint\"`**: This line defines the constraint related to milk.\n",
        "    *   `x + y <= 5`: This represents the constraint that the total units of milk used for A (1 unit per A) and B (1 unit per B) must be less than or equal to the available milk (5 units).\n",
        "    *   `\"Milk Constraint\"`: This is a name for the constraint.\n",
        "    *   `prob +=`: This syntax adds the constraint to the problem instance.\n",
        "\n",
        "8.  **`prob += 3 * x + 2 * y <= 12, \"Choco Constraint\"`**: This line defines the constraint related to chocolate.\n",
        "    *   `3 * x + 2 * y <= 12`: This represents the constraint that the total units of chocolate used for A (3 units per A) and B (2 units per B) must be less than or equal to the available chocolate (12 units).\n",
        "    *   `\"Choco Constraint\"`: This is a name for the constraint.\n",
        "    *   `prob +=`: This syntax adds the constraint to the problem instance.\n",
        "\n",
        "9.  **`prob.solve()`**: This line solves the linear programming problem defined in `prob`.\n",
        "\n",
        "10. **`print(\"Status:\", LpStatus[prob.status])`**: This line prints the status of the solution (e.g., Optimal, Infeasible, Unbounded).\n",
        "\n",
        "11. **`print(\"Optimal number of units of A:\", x.varValue)`**: This line prints the optimal value for the variable `x` (number of units of chocolate A to produce). `varValue` gives the value of the variable after the problem is solved.\n",
        "\n",
        "12. **`print(\"Optimal number of units of B:\", y.varValue)`**: This line prints the optimal value for the variable `y` (number of units of chocolate B to produce).\n",
        "\n",
        "13. **`print(\"Maximum Profit:\", value(prob.objective))`**: This line prints the maximum profit, which is the optimal value of the objective function. `value(prob.objective)` retrieves the optimal value of the objective function.\n",
        "\n",
        "In essence, this code sets up the linear programming problem based on the provided case study, defines the decision variables, the objective to maximize profit, and the constraints based on resource availability. It then uses the PuLP library to find the optimal solution that satisfies all constraints and maximizes the profit."
      ]
    }
  ]
}