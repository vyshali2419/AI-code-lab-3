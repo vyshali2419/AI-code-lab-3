{
  "nbformat": 4,
  "nbformat_minor": 0,
  "metadata": {
    "colab": {
      "provenance": [],
      "authorship_tag": "ABX9TyOCvsAMRR5XQfxbQsJzPo0q",
      "include_colab_link": true
    },
    "kernelspec": {
      "name": "python3",
      "display_name": "Python 3"
    },
    "language_info": {
      "name": "python"
    }
  },
  "cells": [
    {
      "cell_type": "markdown",
      "metadata": {
        "id": "view-in-github",
        "colab_type": "text"
      },
      "source": [
        "<a href=\"https://colab.research.google.com/github/vyshali2419/AI-code-lab-3/blob/main/AIAC_lab_2.ipynb\" target=\"_parent\"><img src=\"https://colab.research.google.com/assets/colab-badge.svg\" alt=\"Open In Colab\"/></a>"
      ]
    },
    {
      "cell_type": "code",
      "execution_count": null,
      "metadata": {
        "id": "izzvPkDCy2L5"
      },
      "outputs": [],
      "source": []
    },
    {
      "cell_type": "code",
      "metadata": {
        "colab": {
          "base_uri": "https://localhost:8080/"
        },
        "id": "b828e945",
        "outputId": "2867a27c-ecd1-47ba-8d0a-c455814648a6"
      },
      "source": [
        "def filter_negative_numbers(input_list):\n",
        "  \"\"\"\n",
        "  Filters out negative numbers from a given list.\n",
        "\n",
        "  Args:\n",
        "    input_list: A list of numbers.\n",
        "\n",
        "  Returns:\n",
        "    A new list containing only the non-negative numbers from the input list.\n",
        "  \"\"\"\n",
        "  return [number for number in input_list if number >= 0]\n",
        "\n",
        "# Example usage:\n",
        "my_list = [1, -2, 3, -4, 5, 0, -6]\n",
        "filtered_list = filter_negative_numbers(my_list)\n",
        "print(f\"Original list: {my_list}\")\n",
        "print(f\"Filtered list: {filtered_list}\")"
      ],
      "execution_count": null,
      "outputs": [
        {
          "output_type": "stream",
          "name": "stdout",
          "text": [
            "Original list: [1, -2, 3, -4, 5, 0, -6]\n",
            "Filtered list: [1, 3, 5, 0]\n"
          ]
        }
      ]
    },
    {
      "cell_type": "markdown",
      "metadata": {
        "id": "0746cb09"
      },
      "source": [
        "First, let's create a dummy text file for demonstration purposes."
      ]
    },
    {
      "cell_type": "code",
      "metadata": {
        "id": "962c76d0"
      },
      "source": [
        "# Create a dummy text file\n",
        "with open(\"sample.txt\", \"w\") as f:\n",
        "  f.write(\"This is a sample text file.\\n\")\n",
        "  f.write(\"This file is for demonstrating word frequency counting.\\n\")\n",
        "  f.write(\"This is the end of the sample file.\")"
      ],
      "execution_count": null,
      "outputs": []
    },
    {
      "cell_type": "markdown",
      "metadata": {
        "id": "601dffa1"
      },
      "source": [
        "Now, let's write the code to read the text file and count the frequency of each word."
      ]
    },
    {
      "cell_type": "code",
      "metadata": {
        "colab": {
          "base_uri": "https://localhost:8080/"
        },
        "id": "10195950",
        "outputId": "b6843bca-fa5f-4100-a74b-43f4e088786e"
      },
      "source": [
        "from collections import Counter\n",
        "import re\n",
        "\n",
        "def count_word_frequency(filename):\n",
        "  \"\"\"\n",
        "  Reads a text file and counts the frequency of each word.\n",
        "\n",
        "  Args:\n",
        "    filename: The name of the text file.\n",
        "\n",
        "  Returns:\n",
        "    A dictionary where keys are words and values are their frequencies.\n",
        "  \"\"\"\n",
        "  with open(filename, 'r') as f:\n",
        "    text = f.read().lower()  # Read the file and convert to lowercase\n",
        "    words = re.findall(r'\\b\\w+\\b', text) # Find all words using regex\n",
        "    word_counts = Counter(words) # Count word frequencies\n",
        "\n",
        "  return word_counts\n",
        "\n",
        "# Example usage:\n",
        "filename = \"sample.txt\"\n",
        "word_frequencies = count_word_frequency(filename)\n",
        "print(f\"Word frequencies in '{filename}':\")\n",
        "for word, count in word_frequencies.items():\n",
        "  print(f\"{word}: {count}\")"
      ],
      "execution_count": null,
      "outputs": [
        {
          "output_type": "stream",
          "name": "stdout",
          "text": [
            "Word frequencies in 'sample.txt':\n",
            "this: 3\n",
            "is: 3\n",
            "a: 1\n",
            "sample: 2\n",
            "text: 1\n",
            "file: 3\n",
            "for: 1\n",
            "demonstrating: 1\n",
            "word: 1\n",
            "frequency: 1\n",
            "counting: 1\n",
            "the: 2\n",
            "end: 1\n",
            "of: 1\n"
          ]
        }
      ]
    },
    {
      "cell_type": "code",
      "metadata": {
        "colab": {
          "base_uri": "https://localhost:8080/"
        },
        "id": "864a359f",
        "outputId": "00dc3f78-72b5-4153-f345-84208086e9f3"
      },
      "source": [
        "class Book:\n",
        "  \"\"\"Represents a book with title and author.\"\"\"\n",
        "\n",
        "  def __init__(self, title, author):\n",
        "    \"\"\"Initializes a new Book instance.\"\"\"\n",
        "    self.title = title\n",
        "    self.author = author\n",
        "\n",
        "  def summary(self):\n",
        "    \"\"\"Prints the title and author of the book.\"\"\"\n",
        "    print(f\"Title: {self.title}\")\n",
        "    print(f\"Author: {self.author}\")\n",
        "\n",
        "# Example usage:\n",
        "my_book = Book(\"The Hitchhiker's Guide to the Galaxy\", \"Douglas Adams\")\n",
        "my_book.summary()"
      ],
      "execution_count": null,
      "outputs": [
        {
          "output_type": "stream",
          "name": "stdout",
          "text": [
            "Title: The Hitchhiker's Guide to the Galaxy\n",
            "Author: Douglas Adams\n"
          ]
        }
      ]
    },
    {
      "cell_type": "markdown",
      "metadata": {
        "id": "704ca706"
      },
      "source": [
        "# Task\n",
        "Write a program that checks whether a number is an Armstrong number."
      ]
    },
    {
      "cell_type": "markdown",
      "metadata": {
        "id": "02a8074e"
      },
      "source": [
        "## Generate armstrong number checking code\n",
        "\n",
        "### Subtask:\n",
        "Write Python code to check if a given number is an Armstrong number.\n"
      ]
    },
    {
      "cell_type": "markdown",
      "metadata": {
        "id": "b5aee10f"
      },
      "source": [
        "**Reasoning**:\n",
        "I need to write a Python function to check if a number is an Armstrong number according to the provided steps.\n",
        "\n"
      ]
    },
    {
      "cell_type": "code",
      "metadata": {
        "colab": {
          "base_uri": "https://localhost:8080/"
        },
        "id": "07d62473",
        "outputId": "32ceebed-e2b3-4f17-810f-87330a0f8403"
      },
      "source": [
        "def is_armstrong_number(number):\n",
        "  \"\"\"\n",
        "  Checks if a number is an Armstrong number.\n",
        "\n",
        "  Args:\n",
        "    number: An integer.\n",
        "\n",
        "  Returns:\n",
        "    True if the number is an Armstrong number, False otherwise.\n",
        "  \"\"\"\n",
        "  # Convert the number to a string to get the number of digits\n",
        "  num_str = str(number)\n",
        "  num_digits = len(num_str)\n",
        "  sum_of_powers = 0\n",
        "\n",
        "  # Iterate through each digit\n",
        "  for digit in num_str:\n",
        "    # Convert digit back to integer and raise to the power of num_digits\n",
        "    sum_of_powers += int(digit) ** num_digits\n",
        "\n",
        "  # Compare the original number with the calculated sum\n",
        "  return number == sum_of_powers\n",
        "\n",
        "# Example usage:\n",
        "test_number = 153\n",
        "if is_armstrong_number(test_number):\n",
        "  print(f\"{test_number} is an Armstrong number.\")\n",
        "else:\n",
        "  print(f\"{test_number} is not an Armstrong number.\")\n",
        "\n",
        "test_number_2 = 123\n",
        "if is_armstrong_number(test_number_2):\n",
        "  print(f\"{test_number_2} is an Armstrong number.\")\n",
        "else:\n",
        "  print(f\"{test_number_2} is not an Armstrong number.\")"
      ],
      "execution_count": null,
      "outputs": [
        {
          "output_type": "stream",
          "name": "stdout",
          "text": [
            "153 is an Armstrong number.\n",
            "123 is not an Armstrong number.\n"
          ]
        }
      ]
    },
    {
      "cell_type": "markdown",
      "metadata": {
        "id": "66995b94"
      },
      "source": [
        "## Explain armstrong number concept\n",
        "\n",
        "### Subtask:\n",
        "Provide a brief explanation of what an Armstrong number is.\n"
      ]
    },
    {
      "cell_type": "markdown",
      "metadata": {
        "id": "593f4b97"
      },
      "source": [
        "**Reasoning**:\n",
        "Provide a brief explanation of what an Armstrong number is and include an example.\n",
        "\n"
      ]
    },
    {
      "cell_type": "code",
      "metadata": {
        "colab": {
          "base_uri": "https://localhost:8080/",
          "height": 198
        },
        "id": "93b09c75",
        "outputId": "10a8a82b-ab4f-45b7-d26a-d0d33fef110b"
      },
      "source": [
        "# Create a markdown cell with the explanation and example\n",
        "get_ipython().run_cell_magic('markdown', '', \"\"\"\n",
        "## What is an Armstrong Number?\n",
        "\n",
        "An Armstrong number (also known as a narcissistic number, pluperfect digital invariant, or happy number) is a number that is the sum of its own digits each raised to the power of the number of digits in the number.\n",
        "\n",
        "For example, 153 is an Armstrong number because:\n",
        "- It has 3 digits.\n",
        "- $1^3 + 5^3 + 3^3 = 1 + 125 + 27 = 153$.\n",
        "\n",
        "Since the sum of the cubes of its digits is equal to the original number, 153 is an Armstrong number.\n",
        "\"\"\")"
      ],
      "execution_count": null,
      "outputs": [
        {
          "output_type": "display_data",
          "data": {
            "text/plain": [
              "<IPython.core.display.Markdown object>"
            ],
            "text/markdown": "\n## What is an Armstrong Number?\n\nAn Armstrong number (also known as a narcissistic number, pluperfect digital invariant, or happy number) is a number that is the sum of its own digits each raised to the power of the number of digits in the number.\n\nFor example, 153 is an Armstrong number because:\n- It has 3 digits.\n- $1^3 + 5^3 + 3^3 = 1 + 125 + 27 = 153$.\n\nSince the sum of the cubes of its digits is equal to the original number, 153 is an Armstrong number.\n"
          },
          "metadata": {}
        }
      ]
    },
    {
      "cell_type": "markdown",
      "metadata": {
        "id": "53bb90a5"
      },
      "source": [
        "## Summary:\n",
        "\n",
        "### Data Analysis Key Findings\n",
        "\n",
        "*   The Python code correctly implements the logic to check if a number is an Armstrong number by summing the digits raised to the power of the number of digits.\n",
        "*   The code successfully identifies 153 as an Armstrong number and 123 as not an Armstrong number.\n",
        "*   An Armstrong number is defined as a number that is the sum of its own digits, each raised to the power of the total number of digits in the number.\n",
        "*   The example of 153 ($1^3 + 5^3 + 3^3 = 153$) clearly illustrates the definition of an Armstrong number.\n",
        "\n",
        "### Insights or Next Steps\n",
        "\n",
        "*   The implemented function can be used to check any integer for the Armstrong property.\n",
        "*   The explanation provides a clear understanding of the concept behind Armstrong numbers.\n"
      ]
    },
    {
      "cell_type": "code",
      "metadata": {
        "colab": {
          "base_uri": "https://localhost:8080/"
        },
        "id": "f021957f",
        "outputId": "23a3afde-44fa-412d-ff59-9310b94db66a"
      },
      "source": [
        "list_of_dicts = [\n",
        "    {'name': 'Alice', 'age': 30},\n",
        "    {'name': 'Bob', 'age': 25},\n",
        "    {'name': 'Charlie', 'age': 35},\n",
        "    {'name': 'David', 'age': 25}\n",
        "]\n",
        "\n",
        "# Sort the list of dictionaries by 'age'\n",
        "sorted_list = sorted(list_of_dicts, key=lambda x: x['age'])\n",
        "\n",
        "print(\"Sorted list by age:\")\n",
        "for item in sorted_list:\n",
        "  print(item)\n",
        "\n",
        "# You can also sort by other keys, for example 'name'\n",
        "sorted_list_by_name = sorted(list_of_dicts, key=lambda x: x['name'])\n",
        "\n",
        "print(\"\\nSorted list by name:\")\n",
        "for item in sorted_list_by_name:\n",
        "  print(item)"
      ],
      "execution_count": null,
      "outputs": [
        {
          "output_type": "stream",
          "name": "stdout",
          "text": [
            "Sorted list by age:\n",
            "{'name': 'Bob', 'age': 25}\n",
            "{'name': 'David', 'age': 25}\n",
            "{'name': 'Alice', 'age': 30}\n",
            "{'name': 'Charlie', 'age': 35}\n",
            "\n",
            "Sorted list by name:\n",
            "{'name': 'Alice', 'age': 30}\n",
            "{'name': 'Bob', 'age': 25}\n",
            "{'name': 'Charlie', 'age': 35}\n",
            "{'name': 'David', 'age': 25}\n"
          ]
        }
      ]
    }
  ]
}