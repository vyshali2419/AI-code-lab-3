{
  "nbformat": 4,
  "nbformat_minor": 0,
  "metadata": {
    "colab": {
      "provenance": [],
      "include_colab_link": true
    },
    "kernelspec": {
      "name": "python3",
      "display_name": "Python 3"
    },
    "language_info": {
      "name": "python"
    }
  },
  "cells": [
    {
      "cell_type": "markdown",
      "metadata": {
        "id": "view-in-github",
        "colab_type": "text"
      },
      "source": [
        "<a href=\"https://colab.research.google.com/github/vyshali2419/AI-code-lab-3/blob/main/Untitled19.ipynb\" target=\"_parent\"><img src=\"https://colab.research.google.com/assets/colab-badge.svg\" alt=\"Open In Colab\"/></a>"
      ]
    },
    {
      "cell_type": "markdown",
      "source": [
        "TASK 1:Use AI to generate test cases for a function is_prime(n) and then implement the\n",
        "function"
      ],
      "metadata": {
        "id": "5x_WgWTOoG_q"
      }
    },
    {
      "cell_type": "markdown",
      "source": [
        "PROMPT: Give me a code that generate a python function whether it is a prime number or not"
      ],
      "metadata": {
        "id": "gneyIwYqoNfw"
      }
    },
    {
      "cell_type": "code",
      "metadata": {
        "colab": {
          "base_uri": "https://localhost:8080/"
        },
        "id": "9b53dac3",
        "outputId": "bf75b27a-cb07-4dd5-ba62-2baa11199691"
      },
      "source": [
        "# Test cases for is_prime function\n",
        "test_cases = [\n",
        "    (0, False),  # Numbers less than or equal to 1 are not prime\n",
        "    (1, False),\n",
        "    (2, True),   # 2 is the only even prime number\n",
        "    (3, True),\n",
        "    (4, False),  # 4 is divisible by 2\n",
        "    (5, True),\n",
        "    (6, False),  # 6 is divisible by 2 and 3\n",
        "    (7, True),\n",
        "    (10, False), # 10 is divisible by 2 and 5\n",
        "    (11, True),\n",
        "    (13, True),\n",
        "    (17, True),\n",
        "    (20, False), # 20 is divisible by 2, 4, 5, 10\n",
        "    (23, True),\n",
        "    (29, True),\n",
        "    (31, True),\n",
        "    (100, False), # 100 is divisible by many numbers\n",
        "    (101, True), # 101 is a prime number\n",
        "    (103, True), # 103 is a prime number\n",
        "    (997, True), # 997 is a prime number\n",
        "    (999, False) # 999 is divisible by 3, 9, 27, etc.\n",
        "\n",
        "]\n",
        "\n",
        "for number, expected_output in test_cases:\n",
        "    actual_output = is_prime(number)\n",
        "    assert actual_output == expected_output, f\"Input: {number}, Expected: {expected_output}, Got: {actual_output}\"\n",
        "    print(f\"Test case {number}: Passed\")\n",
        "\n",
        "print(\"\\nAll test cases passed!\")"
      ],
      "execution_count": null,
      "outputs": [
        {
          "output_type": "stream",
          "name": "stdout",
          "text": [
            "Test case 0: Passed\n",
            "Test case 1: Passed\n",
            "Test case 2: Passed\n",
            "Test case 3: Passed\n",
            "Test case 4: Passed\n",
            "Test case 5: Passed\n",
            "Test case 6: Passed\n",
            "Test case 7: Passed\n",
            "Test case 10: Passed\n",
            "Test case 11: Passed\n",
            "Test case 13: Passed\n",
            "Test case 17: Passed\n",
            "Test case 20: Passed\n",
            "Test case 23: Passed\n",
            "Test case 29: Passed\n",
            "Test case 31: Passed\n",
            "Test case 100: Passed\n",
            "Test case 101: Passed\n",
            "Test case 103: Passed\n",
            "Test case 997: Passed\n",
            "Test case 999: Passed\n",
            "\n",
            "All test cases passed!\n"
          ]
        }
      ]
    },
    {
      "cell_type": "markdown",
      "source": [
        "EXPLANATION: This part defines a list called test_cases. Each element in this list is a tuple containing two values:\n",
        "\n",
        "The first value is the input number that will be passed to the is_prime function.\n",
        "The second value is the expected output (either True or False) that the is_prime function should return for that input number. The comments next to each tuple explain why that particular input has the expected output.This code effectively automates the process of testing the is_prime function against a set of predefined inputs and their expected outputs, helping to ensure that the function works correctly for various scenarios."
      ],
      "metadata": {
        "id": "ogRrB1jvqWQ-"
      }
    },
    {
      "cell_type": "markdown",
      "source": [
        "TASK 2:\n",
        "• Ask AI to generate test cases for celsius_to_fahrenheit(c) and fahrenheit_to_celsius(f)"
      ],
      "metadata": {
        "id": "bd_aPL64qqVL"
      }
    },
    {
      "cell_type": "markdown",
      "source": [
        "PROMPT: Give me a code to generate test cases for celsius_to_fahrenheit(c) and fahrenheit_to_celsius(f)"
      ],
      "metadata": {
        "id": "X_wJNs7hq-YK"
      }
    },
    {
      "cell_type": "code",
      "metadata": {
        "id": "a521275a"
      },
      "source": [
        "# Test cases for celsius_to_fahrenheit function\n",
        "celsius_test_cases = [\n",
        "    (0, 32.0),       # Freezing point of water\n",
        "    (100, 212.0),    # Boiling point of water\n",
        "    (25, 77.0),\n",
        "    (-10, 14.0),\n",
        "    (37.5, 99.5),    # Decimal input\n",
        "    (None, None),    # None input\n",
        "    (\"abc\", None)    # String input (should result in None or handle error)\n",
        "]\n",
        "\n",
        "# Test cases for fahrenheit_to_celsius function\n",
        "fahrenheit_test_cases = [\n",
        "    (32, 0.0),       # Freezing point of water\n",
        "    (212, 100.0),    # Boiling point of water\n",
        "    (77, 25.0),\n",
        "    (14, -10.0),\n",
        "    (99.5, 37.5),    # Decimal input\n",
        "    (None, None),    # None input\n",
        "    (\"xyz\", None)    # String input (should result in None or handle error)\n",
        "]\n",
        "\n",
        "# Note: You will need to have the celsius_to_fahrenheit and fahrenheit_to_celsius\n",
        "# functions defined in a previous cell for these test cases to run.\n",
        "# For the string and None test cases, the expected output depends on how\n",
        "# your functions handle invalid input. The expected output 'None' is a common\n",
        "# way to signify an invalid conversion."
      ],
      "execution_count": null,
      "outputs": []
    },
    {
      "cell_type": "markdown",
      "source": [
        "\n",
        "EXPLANATION :  This code defines two lists: celsius_test_cases and fahrenheit_test_cases.\n",
        "\n",
        "celsius_test_cases is a list of tuples, where each tuple represents a test case for a function that converts Celsius to Fahrenheit. The first element of the tuple is the input temperature in Celsius, and the second element is the expected output temperature in Fahrenheit. The comments provide context for each test case, including standard temperature points and examples of decimal, None, and string inputs to consider how the function should handle non-standard inputs.\n",
        "fahrenheit_test_cases is a similar list of tuples, but for testing a function that converts Fahrenheit to Celsius. The first element is the input temperature in Fahrenheit, and the second element is the expected output temperature in Celsius. Again, comments provide context and examples of different input types."
      ],
      "metadata": {
        "id": "8hoAu5utshUx"
      }
    },
    {
      "cell_type": "markdown",
      "source": [
        "TASK 3:Use AI to write test cases for a function count_words(text) that returns the number of\n",
        "words in a sentence"
      ],
      "metadata": {
        "id": "lL7Ap7-wsxrP"
      }
    },
    {
      "cell_type": "markdown",
      "source": [
        "PROMPT: Give me a code that generate test cases for a function count_words(text) that returns the number of words in a sentence"
      ],
      "metadata": {
        "id": "u5ouzxOgtEgU"
      }
    },
    {
      "cell_type": "code",
      "metadata": {
        "id": "40ac8617"
      },
      "source": [
        "# Test cases for count_words function\n",
        "count_words_test_cases = [\n",
        "    (\"Hello world\", 2),  # Normal text\n",
        "    (\"This is a sentence with five words.\", 6), # Another normal sentence\n",
        "    (\"\", 0),             # Empty string\n",
        "    (\"   \", 0),          # String with only spaces\n",
        "    (\"  Leading and trailing spaces  \", 4), # Leading and trailing spaces\n",
        "    (\"Multiple   spaces   here\", 3), # Multiple spaces between words\n",
        "    (\"Punctuation!\", 1), # Punctuation at the end\n",
        "    (\"Hello, world!\", 2), # Punctuation within the sentence\n",
        "    (\"  Test with   mixed  spaces , and punctuation . \", 5), # Mixed spaces and punctuation\n",
        "    (\"One\", 1),           # Single word\n",
        "    (\" Word  with   extra   spaces \", 3) # Extra spaces around a single word\n",
        "]\n",
        "\n",
        "# Note: You will need to have the count_words function defined\n",
        "# in a previous cell for these test cases to run."
      ],
      "execution_count": null,
      "outputs": []
    },
    {
      "cell_type": "markdown",
      "source": [
        "EXPLANATION :This code defines a list called count_words_test_cases. Each element in this list is a tuple, where the first element is a string representing the input text to the count_words function, and the second element is the expected integer output (the number of words) for that input.\n",
        "\n",
        "The list includes a variety of test cases to cover different scenarios:\n",
        "\n",
        "Normal text: Simple sentences with standard spacing.\n",
        "\n",
        "Empty string: An empty string should have zero words.\n",
        "\n",
        "String with only spaces: A string containing only spaces should also have zero words.\n",
        "\n",
        "Leading and trailing spaces: Tests if the function correctly handles spaces at the beginning and end of the string.\n",
        "\n",
        "Multiple spaces between words: Checks if multiple spaces between words are treated as a single word separator.\n",
        "\n",
        "Punctuation: Includes cases with punctuation at the end of a word and within the sentence to see how the function handles them.\n",
        "\n",
        "Mixed spaces and punctuation: A more complex case combining extra spaces and punctuation.\n",
        "\n",
        "Single word: Ensures the function works for a single word.\n",
        "Extra spaces around a single word: Tests handling of spaces around a single word.\n"
      ],
      "metadata": {
        "id": "81EM0x54toiQ"
      }
    },
    {
      "cell_type": "code",
      "source": [
        "TASK 4: Generate test cases for a BankAccount class with:\n",
        "Methods:\n",
        "deposit(amount)\n",
        "withdraw(amount)\n",
        "check_balance()"
      ],
      "metadata": {
        "id": "zdR4yFRRuK1D"
      },
      "execution_count": null,
      "outputs": []
    },
    {
      "cell_type": "markdown",
      "source": [
        "PROMPT:Give me a code that generate test cases for a BankAccount class with:\n",
        "Methods:\n",
        "deposit(amount)\n",
        "withdraw(amount)\n",
        "check_balance()"
      ],
      "metadata": {
        "id": "54xa_X3AtwHK"
      }
    },
    {
      "cell_type": "code",
      "metadata": {
        "id": "b4a90b71"
      },
      "source": [
        "# Test cases for BankAccount class\n",
        "\n",
        "# Test case 1: Initializing account and checking balance\n",
        "test_case_1 = {\n",
        "    \"description\": \"Initialize account and check balance\",\n",
        "    \"actions\": [\n",
        "        {\"action\": \"init\", \"initial_balance\": 1000},\n",
        "        {\"action\": \"check_balance\", \"expected_balance\": 1000}\n",
        "    ]\n",
        "}\n",
        "\n",
        "# Test case 2: Deposit and check balance\n",
        "test_case_2 = {\n",
        "    \"description\": \"Deposit and check balance\",\n",
        "    \"actions\": [\n",
        "        {\"action\": \"init\", \"initial_balance\": 500},\n",
        "        {\"action\": \"deposit\", \"amount\": 200},\n",
        "        {\"action\": \"check_balance\", \"expected_balance\": 700}\n",
        "    ]\n",
        "}\n",
        "\n",
        "# Test case 3: Withdraw and check balance\n",
        "test_case_3 = {\n",
        "    \"description\": \"Withdraw and check balance\",\n",
        "    \"actions\": [\n",
        "        {\"action\": \"init\", \"initial_balance\": 1000},\n",
        "        {\"action\": \"withdraw\", \"amount\": 300},\n",
        "        {\"action\": \"check_balance\", \"expected_balance\": 700}\n",
        "    ]\n",
        "}\n",
        "\n",
        "# Test case 4: Multiple deposits and withdrawals\n",
        "test_case_4 = {\n",
        "    \"description\": \"Multiple deposits and withdrawals\",\n",
        "    \"actions\": [\n",
        "        {\"action\": \"init\", \"initial_balance\": 0},\n",
        "        {\"action\": \"deposit\", \"amount\": 500},\n",
        "        {\"action\": \"deposit\", \"amount\": 300},\n",
        "        {\"action\": \"withdraw\", \"amount\": 200},\n",
        "        {\"action\": \"check_balance\", \"expected_balance\": 600}\n",
        "    ]\n",
        "}\n",
        "\n",
        "# Test case 5: Withdraw more than balance (should not change balance)\n",
        "test_case_5 = {\n",
        "    \"description\": \"Withdraw more than balance\",\n",
        "    \"actions\": [\n",
        "        {\"action\": \"init\", \"initial_balance\": 500},\n",
        "        {\"action\": \"withdraw\", \"amount\": 700}, # This withdrawal should fail\n",
        "        {\"action\": \"check_balance\", \"expected_balance\": 500} # Balance should remain unchanged\n",
        "    ]\n",
        "}\n",
        "\n",
        "# Test case 6: Deposit zero or negative amount (should not change balance)\n",
        "test_case_6 = {\n",
        "    \"description\": \"Deposit zero or negative amount\",\n",
        "    \"actions\": [\n",
        "        {\"action\": \"init\", \"initial_balance\": 1000},\n",
        "        {\"action\": \"deposit\", \"amount\": 0},\n",
        "        {\"action\": \"deposit\", \"amount\": -100}, # Negative deposit should not be allowed\n",
        "        {\"action\": \"check_balance\", \"expected_balance\": 1000} # Balance should remain unchanged\n",
        "    ]\n",
        "}\n",
        "\n",
        "# Test case 7: Withdraw zero or negative amount (should not change balance)\n",
        "test_case_7 = {\n",
        "    \"description\": \"Withdraw zero or negative amount\",\n",
        "    \"actions\": [\n",
        "        {\"action\": \"init\", \"initial_balance\": 1000},\n",
        "        {\"action\": \"withdraw\", \"amount\": 0},\n",
        "        {\"action\": \"withdraw\", \"amount\": -100}, # Negative withdrawal should not be allowed\n",
        "        {\"action\": \"check_balance\", \"expected_balance\": 1000} # Balance should remain unchanged\n",
        "    ]\n",
        "}\n",
        "\n",
        "\n",
        "# List of all test cases\n",
        "bank_account_test_cases = [\n",
        "    test_case_1,\n",
        "    test_case_2,\n",
        "    test_case_3,\n",
        "    test_case_4,\n",
        "    test_case_5,\n",
        "    test_case_6,\n",
        "    test_case_7\n",
        "]\n",
        "\n",
        "# Note: You will need to have the BankAccount class defined in a previous cell\n",
        "# for these test cases to run. You will also need to write code to iterate\n",
        "# through these test cases, create a BankAccount instance for each test,\n",
        "# perform the actions, and assert the expected outcomes."
      ],
      "execution_count": null,
      "outputs": []
    },
    {
      "cell_type": "markdown",
      "source": [
        "EXPLANATION : his code defines a series of test cases for a hypothetical BankAccount class. Each test case is represented as a dictionary with a \"description\" and a list of \"actions\". The \"actions\" list contains dictionaries that specify a sequence of operations to perform on a BankAccount instance for that particular test.\n",
        "\n",
        "Let's break down the structure of a test case dictionary:\n",
        "\n",
        "\"description\": A string that briefly explains what the test case is designed to verify.\n",
        "\"actions\": A list of dictionaries, where each dictionary represents an action to be performed.\n",
        "Each action dictionary has an \"action\" key specifying the type of action, and other keys providing the necessary arguments for that action:\n",
        "\n",
        "{\"action\": \"init\", \"initial_balance\": 1000}: This action represents the initialization of a BankAccount instance. \"init\" indicates the action type, and \"initial_balance\" specifies the initial balance for the account.\n",
        "{\"action\": \"check_balance\", \"expected_balance\": 1000}: This action represents checking the account's balance. \"check_balance\" is the action type, and \"expected_balance\" is the value the balance is expected to be at this point in the test case.\n",
        "{\"action\": \"deposit\", \"amount\": 200}: This action represents depositing money into the account. \"deposit\" is the action type, and \"amount\" is the amount to deposit.\n",
        "{\"action\": \"withdraw\", \"amount\": 300}: This action represents withdrawing money from the account. \"withdraw\" is the action type, and \"amount\" is the amount to withdraw.\n",
        "The code then defines several individual test case dictionaries (test_case_1 through test_case_7), each designed to test a specific scenario, such as:\n",
        "\n",
        "Initializing and checking the balance.\n",
        "Depositing money and checking the balance.\n",
        "Withdrawing money and checking the balance.\n",
        "Performing multiple deposits and withdrawals.\n",
        "Attempting to withdraw more money than is available (to ensure it's handled correctly, likely by not allowing the withdrawal).\n",
        "Attempting to deposit zero or a negative amount (to ensure these invalid inputs are handled).\n",
        "Attempting to withdraw zero or a negative amount (to ensure these invalid inputs are handled).\n",
        "Finally, the code creates a list called bank_account_test_cases which contains all the individual test case dictionaries.\n",
        "\n",
        "The comment at the end explains that to actually run these tests, you would need to:\n",
        "\n",
        "Define the BankAccount class with the deposit, withdraw, and check_balance methods in a previous cell.\n",
        "Write additional code to iterate through the bank_account_test_cases list.\n",
        "For each test case, create a new instance of the BankAccount class (using the \"init\" action's initial_balance).\n",
        "Iterate through the \"actions\" list within the test case.\n",
        "Based on the \"action\" type, call the corresponding method on the BankAccount instance (deposit, withdraw, or check_balance).\n",
        "For \"check_balance\" actions, compare the actual balance returned by check_balance() with the expected_balance using an assertion to verify the outcome.\n",
        "This structured approach to defining test cases makes it clear what is being tested in each scenario and provides the expected outcomes for verification.\n",
        "\n"
      ],
      "metadata": {
        "id": "vgVV6PhYuvK6"
      }
    },
    {
      "cell_type": "markdown",
      "source": [
        "TASK 5: Generate test cases for is_number_palindrome(num), which checks if an integer reads\n",
        "the same backward\n",
        "Examples:\n",
        "121 → True\n",
        "123 → False\n",
        "0, negative numbers → handled gracefully"
      ],
      "metadata": {
        "id": "5aUQZbHbu91F"
      }
    },
    {
      "cell_type": "markdown",
      "source": [
        "PROMPT: Give me a code that generate test cases for is_number_palindrome(num), which checks if an integer reads the same backward Examples: 121 → True 123 → False 0, negative numbers → handled gracefully"
      ],
      "metadata": {
        "id": "Dg7OpGw7vWpe"
      }
    },
    {
      "cell_type": "code",
      "source": [],
      "metadata": {
        "id": "1DQw4PbPvfde"
      },
      "execution_count": null,
      "outputs": []
    },
    {
      "cell_type": "code",
      "metadata": {
        "id": "1809bd11"
      },
      "source": [
        "# Test cases for is_number_palindrome function\n",
        "is_number_palindrome_test_cases = [\n",
        "    (121, True),     # Palindrome\n",
        "    (123, False),    # Not a palindrome\n",
        "    (0, True),       # Single digit (considered a palindrome)\n",
        "    (1, True),       # Single digit\n",
        "    (11, True),      # Two-digit palindrome\n",
        "    (22, True),      # Two-digit palindrome\n",
        "    (101, True),     # Three-digit palindrome\n",
        "    (1221, True),    # Four-digit palindrome\n",
        "    (12345, False),  # Longer non-palindrome\n",
        "    (-121, False),   # Negative number (depends on function's handling, often False)\n",
        "    (-1, False),     # Negative single digit\n",
        "    (10, False),     # Number ending in 0 (unless it's just 0)\n",
        "    (1001, True),    # Palindrome with zeros\n",
        "    (12321, True),   # Longer palindrome\n",
        "    (987654321, False) # Very long non-palindrome\n",
        "]\n",
        "\n",
        "# Note: You will need to have the is_number_palindrome function defined\n",
        "# in a previous cell for these test cases to run. The expected output\n",
        "# for negative numbers depends on how your function is implemented to handle them.\n",
        "# Assuming a common approach where the negative sign breaks the palindrome property."
      ],
      "execution_count": null,
      "outputs": []
    },
    {
      "cell_type": "markdown",
      "source": [
        "  EXPLANATION : This code defines a list called is_number_palindrome_test_cases. Each element in this list is a tuple. The first element of the tuple is the input integer that will be passed to the is_number_palindrome function, and the second element is the expected boolean output (True or False) indicating whether the number is a palindrome or not.\n",
        "\n",
        "The list includes a variety of test cases to cover different scenarios:\n",
        "\n",
        "Palindromes: Numbers that read the same forwards and backwards (e.g., 121, 11, 101).\n",
        "Non-palindromes: Numbers that do not read the same forwards and backwards (e.g., 123, 12345).\n",
        "Single digits: 0 and 1 are included, as single-digit numbers are generally considered palindromes.\n",
        "Two, three, and four-digit palindromes: Examples of palindromes with different numbers of digits.\n",
        "Negative numbers: Test cases like -121 and -1 are included. The expected output here is False based on a common convention that the negative sign breaks the palindrome property. However, the comment notes that the expected output for negative numbers depends on how the actual is_number_palindrome function is implemented to handle them.\n",
        "Numbers ending in zero: The number 10 is included as a non-palindrome case to ensure the function handles trailing zeros correctly (except for the number 0 itself).\n",
        "Palindromes with zeros: 1001 is included as an example of a palindrome containing zeros.\n",
        "Longer numbers: Both a longer palindrome (12321) and a very long non-palindrome (987654321) are included to test the function's performance and correctness with larger numbers.\n"
      ],
      "metadata": {
        "id": "AdaGnlmDwyxe"
      }
    }
  ]
}